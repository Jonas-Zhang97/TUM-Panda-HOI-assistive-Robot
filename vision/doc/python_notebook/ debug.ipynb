{
 "cells": [
  {
   "cell_type": "markdown",
   "metadata": {},
   "source": [
    "# Debug\n",
    "\n",
    "This script contains issues that have been found during the development of this project. Here some basic calculation will be done to locate and solve the issues\n",
    "\n",
    "## depth_image_converter\n",
    "\n",
    "### Description\n",
    "\n",
    "This package perform the transformation from object point cloud to a depth image, the general logic is:\n",
    "1. Transform the point cloud (in panda_link0 frame) into camera_color_optical_frame;\n",
    "2. Project the points onto the pixel frame of the depth image\n",
    "\n",
    "The first step is varified to be correct,\n",
    "\n",
    "![image](/home/franka/ws_perception/src/vision/doc/pics/for_ipynb/point_cloud_2_frames.png)\n",
    "\n",
    "\n",
    "but during the 2nd step, the projected depth image is wrong, the image is like following \n",
    "\n",
    "![image](/home/franka/ws_perception/src/vision/doc/pics/for_ipynb/bug_depth_image.png)\n",
    "\n",
    "during the projection /camera/aligned_depth_to_color/camera_info is used as K, which may caused the issue.\n",
    "\n",
    "So here we load the there K's provided by the camera and do some tests:"
   ]
  },
  {
   "cell_type": "code",
   "execution_count": 26,
   "metadata": {},
   "outputs": [],
   "source": [
    "import numpy as np\n",
    "\n",
    "K_aligned = np.array([[910, 0,  641], \n",
    "                      [ 0, 909, 367], \n",
    "                      [ 0,  0,   1 ]])\n",
    "\n",
    "K_depth = np.array([[910,  0,  641],\n",
    "                    [ 0 , 909, 367],\n",
    "                    [ 0 ,  0,   1 ]])\n",
    "\n",
    "K_color = np.array([[428, 0,  429],\n",
    "                    [ 0, 428, 236],\n",
    "                    [ 0,  0,   1 ]])"
   ]
  },
  {
   "cell_type": "markdown",
   "metadata": {},
   "source": [
    "Now, we introduce a pre-defined poit, which is at [0, 0, 0.5] w.r.t. camera_color_optical frame and calculate the pixel frame of it"
   ]
  },
  {
   "cell_type": "code",
   "execution_count": 28,
   "metadata": {},
   "outputs": [
    {
     "name": "stdout",
     "output_type": "stream",
     "text": [
      "Using K_aligned, the pixel position is: \n",
      "[1278.  367.]\n",
      "\n",
      "Using K_color, the pixel position is: \n",
      "[728.6 236. ]\n"
     ]
    }
   ],
   "source": [
    "test_point = np.array([0.7, 0, 1])\n",
    "\n",
    "test_point_aligned_hom = K_aligned.dot(test_point)\n",
    "test_point_aligned = np.array([test_point_aligned_hom[0]/test_point_aligned_hom[2], \n",
    "                               test_point_aligned_hom[1]/test_point_aligned_hom[2]])\n",
    "\n",
    "test_point_color_hom = K_color.dot(test_point)\n",
    "test_point_color = np.array([test_point_color_hom[0]/test_point_color_hom[2],\n",
    "                             test_point_color_hom[1]/test_point_color_hom[2]])\n",
    "\n",
    "print(\"Using K_aligned, the pixel position is: \")\n",
    "print(test_point_aligned)\n",
    "\n",
    "print(\"\")\n",
    "\n",
    "print(\"Using K_color, the pixel position is: \")\n",
    "print(test_point_color)"
   ]
  },
  {
   "cell_type": "markdown",
   "metadata": {},
   "source": [
    "### Issue Solved\n",
    "\n",
    "The issue is located at the usage of cv::Mat::at() function, at line 118 there is:\n",
    "\n",
    "```c++ \n",
    "depth_mat.at<double>(curr_point_pixel[1], curr_point_pixel[0]) = std::round(objects_cloud_cam_->at(i).z * std::pow(10, 3));\n",
    "```\n",
    "\n",
    "but in <> tag after \"at\", we should specify the data type according to the image encoding, but not the data type of input image, for CV_16UC1 it should be ushort, so after correction:\n",
    "\n",
    "```c++ \n",
    "depth_mat.at<ushort>(curr_point_pixel[1], curr_point_pixel[0]) = std::round(objects_cloud_cam_->at(i).z * std::pow(10, 3));\n",
    "```"
   ]
  }
 ],
 "metadata": {
  "kernelspec": {
   "display_name": "Python 3",
   "language": "python",
   "name": "python3"
  },
  "language_info": {
   "codemirror_mode": {
    "name": "ipython",
    "version": 3
   },
   "file_extension": ".py",
   "mimetype": "text/x-python",
   "name": "python",
   "nbconvert_exporter": "python",
   "pygments_lexer": "ipython3",
   "version": "3.8.10"
  },
  "orig_nbformat": 4
 },
 "nbformat": 4,
 "nbformat_minor": 2
}
